{
 "cells": [
  {
   "cell_type": "code",
   "execution_count": 1,
   "metadata": {},
   "outputs": [],
   "source": [
    "import numpy as np"
   ]
  },
  {
   "cell_type": "code",
   "execution_count": 2,
   "metadata": {},
   "outputs": [],
   "source": [
    "learning_rate = 0.001\n",
    "x, y = np.array([1, -1]), 1\n",
    "\n",
    "# პირველი შრის წონები\n",
    "w1 = np.array([\n",
    "    [0.5, -1.5],\n",
    "    [1, 1]\n",
    "])\n",
    "\n",
    "# მეორე შრის წონები\n",
    "w2 = np.array([1.5, -0.5])\n",
    "\n",
    "b1 = np.array([0.2, -0.4])\n",
    "b2 = 1"
   ]
  },
  {
   "cell_type": "code",
   "execution_count": 3,
   "metadata": {},
   "outputs": [],
   "source": [
    "def sigmoid(z):\n",
    "    return 1 / (1 + np.exp(-z))"
   ]
  },
  {
   "cell_type": "code",
   "execution_count": 4,
   "metadata": {},
   "outputs": [],
   "source": [
    "def gradient_descent(w1, b1, w2, b2):\n",
    "    # პროგნოზი\n",
    "    ## შემავალი შრე -> პირველი დამალული შრე\n",
    "    z1 = np.dot(w1, x) + b1\n",
    "    a1 = sigmoid(z1)\n",
    "\n",
    "    ## პირველი დამალული შრე -> შედეგი\n",
    "    z2 = np.dot(w2, a1) + b2\n",
    "    a2 = sigmoid(z2)\n",
    "\n",
    "    # ცდომილება\n",
    "    L = np.pow(a2 - y, 2)\n",
    "\n",
    "    # უკუ გრადიენტი\n",
    "    ## შედეგი -> პირველი დამალული შრე\n",
    "    dL_da2 = 2 * (a2 - y)\n",
    "    da2_dz2 = a2 * (1 - a2)\n",
    "    dz2_dw2 = a1\n",
    "\n",
    "    ## პირველი დამალული შრე -> შემავალი შრე\n",
    "    da1_dz1 = a1 * (1 - a1)\n",
    "    dz1_dw1 = x\n",
    "\n",
    "    # წონების განახლება\n",
    "    w2 += -learning_rate * np.dot((dL_da2 * da2_dz2),  dz2_dw2)\n",
    "    b2 += -learning_rate * (dL_da2 * da2_dz2)\n",
    "\n",
    "    w1 += -learning_rate * da1_dz1 * dz1_dw1\n",
    "    b1 += -learning_rate * da1_dz1\n",
    "    return w1, b1, w2, b2\n"
   ]
  },
  {
   "cell_type": "code",
   "execution_count": 5,
   "metadata": {},
   "outputs": [
    {
     "name": "stdout",
     "output_type": "stream",
     "text": [
      "w1 = [[ 0.4999102  -1.49975974]\n",
      " [ 0.9999102   1.00024026]]\n",
      "b1 = [ 0.1999102  -0.40024026]\n",
      "w2 = [ 1.50001756 -0.49999217]\n",
      "b2 = 1.0000195079917036\n"
     ]
    }
   ],
   "source": [
    "w1, b1, w2, b2 = gradient_descent(w1, b1, w2, b2)\n",
    "\n",
    "print(f\"w1 = {w1}\")\n",
    "print(f\"b1 = {b1}\")\n",
    "print(f\"w2 = {w2}\")\n",
    "print(f\"b2 = {b2}\")"
   ]
  }
 ],
 "metadata": {
  "kernelspec": {
   "display_name": "venv",
   "language": "python",
   "name": "python3"
  },
  "language_info": {
   "codemirror_mode": {
    "name": "ipython",
    "version": 3
   },
   "file_extension": ".py",
   "mimetype": "text/x-python",
   "name": "python",
   "nbconvert_exporter": "python",
   "pygments_lexer": "ipython3",
   "version": "3.12.1"
  }
 },
 "nbformat": 4,
 "nbformat_minor": 2
}
